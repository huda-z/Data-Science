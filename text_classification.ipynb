{
  "nbformat": 4,
  "nbformat_minor": 0,
  "metadata": {
    "colab": {
      "provenance": []
    },
    "kernelspec": {
      "name": "python3",
      "display_name": "Python 3"
    },
    "language_info": {
      "name": "python"
    }
  },
  "cells": [
    {
      "cell_type": "markdown",
      "source": [
        "# Text Classification for Medical Reports\n",
        "---\n",
        "The code aims to build a machine learning model that can classify medical transcriptions into various specialties, contributing to several real-world applications such as automating documentation, improving data management, supporting medical research, and aiding in decision-making. Despite the low performance indicated by the current output, the process demonstrates essential steps in developing, evaluating, and refining a text classification model. Continuous improvement and tuning can lead to a more accurate and reliable system, ultimately benefiting the healthcare industry.\n"
      ],
      "metadata": {
        "id": "d72HF3pcA6rM"
      }
    },
    {
      "cell_type": "markdown",
      "source": [
        "##  1. Importing Libraries\n",
        "The necessary libraries for data manipulation, model training, and evaluation are imported."
      ],
      "metadata": {
        "id": "5o6SMmg3kkak"
      }
    },
    {
      "cell_type": "code",
      "source": [
        "import pandas as pd\n",
        "from sklearn.model_selection import train_test_split\n",
        "from sklearn.feature_extraction.text import TfidfVectorizer\n",
        "from sklearn.linear_model import LogisticRegression\n",
        "from sklearn.metrics import accuracy_score, classification_report\n",
        "from sklearn.preprocessing import LabelEncoder\n"
      ],
      "metadata": {
        "id": "wWUHBi6GkpSR"
      },
      "execution_count": null,
      "outputs": []
    },
    {
      "cell_type": "markdown",
      "source": [
        "## 2. Loading the Dataset\n",
        "The dataset is loaded from a CSV file into a Pandas DataFrame."
      ],
      "metadata": {
        "id": "4ag7ZzRKkvfU"
      }
    },
    {
      "cell_type": "code",
      "source": [
        "# Load the dataset\n",
        "file_path = '/content/mtsamples.csv'\n",
        "data = pd.read_csv(file_path)"
      ],
      "metadata": {
        "id": "vsa2H1tskqrO"
      },
      "execution_count": null,
      "outputs": []
    },
    {
      "cell_type": "markdown",
      "source": [
        "## 3. Initial Data Inspection\n",
        "The first few rows of the dataset are displayed to understand its structure, followed by an information summary and checking for missing values."
      ],
      "metadata": {
        "id": "XCqwLaLKlB3Z"
      }
    },
    {
      "cell_type": "code",
      "source": [
        "# Display the first few rows of the dataset\n",
        "print(data.head())\n",
        "\n",
        "# Check the structure of the dataset\n",
        "print(data.info())\n",
        "\n",
        "# Check for missing values\n",
        "print(data.isnull().sum())"
      ],
      "metadata": {
        "colab": {
          "base_uri": "https://localhost:8080/"
        },
        "id": "MnQvZAkIkwiu",
        "outputId": "e6be3c09-8d52-4fb1-d167-74d68103d64b"
      },
      "execution_count": null,
      "outputs": [
        {
          "output_type": "stream",
          "name": "stdout",
          "text": [
            "   Unnamed: 0                                        description  \\\n",
            "0           0   A 23-year-old white female presents with comp...   \n",
            "1           1           Consult for laparoscopic gastric bypass.   \n",
            "2           2           Consult for laparoscopic gastric bypass.   \n",
            "3           3                             2-D M-Mode. Doppler.     \n",
            "4           4                                 2-D Echocardiogram   \n",
            "\n",
            "             medical_specialty                                sample_name  \\\n",
            "0         Allergy / Immunology                         Allergic Rhinitis    \n",
            "1                   Bariatrics   Laparoscopic Gastric Bypass Consult - 2    \n",
            "2                   Bariatrics   Laparoscopic Gastric Bypass Consult - 1    \n",
            "3   Cardiovascular / Pulmonary                    2-D Echocardiogram - 1    \n",
            "4   Cardiovascular / Pulmonary                    2-D Echocardiogram - 2    \n",
            "\n",
            "                                       transcription  \\\n",
            "0  SUBJECTIVE:,  This 23-year-old white female pr...   \n",
            "1  PAST MEDICAL HISTORY:, He has difficulty climb...   \n",
            "2  HISTORY OF PRESENT ILLNESS: , I have seen ABC ...   \n",
            "3  2-D M-MODE: , ,1.  Left atrial enlargement wit...   \n",
            "4  1.  The left ventricular cavity size and wall ...   \n",
            "\n",
            "                                            keywords  \n",
            "0  allergy / immunology, allergic rhinitis, aller...  \n",
            "1  bariatrics, laparoscopic gastric bypass, weigh...  \n",
            "2  bariatrics, laparoscopic gastric bypass, heart...  \n",
            "3  cardiovascular / pulmonary, 2-d m-mode, dopple...  \n",
            "4  cardiovascular / pulmonary, 2-d, doppler, echo...  \n",
            "<class 'pandas.core.frame.DataFrame'>\n",
            "RangeIndex: 4999 entries, 0 to 4998\n",
            "Data columns (total 6 columns):\n",
            " #   Column             Non-Null Count  Dtype \n",
            "---  ------             --------------  ----- \n",
            " 0   Unnamed: 0         4999 non-null   int64 \n",
            " 1   description        4999 non-null   object\n",
            " 2   medical_specialty  4999 non-null   object\n",
            " 3   sample_name        4999 non-null   object\n",
            " 4   transcription      4966 non-null   object\n",
            " 5   keywords           3931 non-null   object\n",
            "dtypes: int64(1), object(5)\n",
            "memory usage: 234.5+ KB\n",
            "None\n",
            "Unnamed: 0              0\n",
            "description             0\n",
            "medical_specialty       0\n",
            "sample_name             0\n",
            "transcription          33\n",
            "keywords             1068\n",
            "dtype: int64\n"
          ]
        }
      ]
    },
    {
      "cell_type": "code",
      "source": [
        "data.head()"
      ],
      "metadata": {
        "colab": {
          "base_uri": "https://localhost:8080/",
          "height": 306
        },
        "id": "exlGDFdqlCza",
        "outputId": "4dc2d48f-b957-4372-dca9-531696218deb"
      },
      "execution_count": null,
      "outputs": [
        {
          "output_type": "execute_result",
          "data": {
            "text/plain": [
              "   Unnamed: 0                                        description  \\\n",
              "0           0   A 23-year-old white female presents with comp...   \n",
              "1           1           Consult for laparoscopic gastric bypass.   \n",
              "2           2           Consult for laparoscopic gastric bypass.   \n",
              "3           3                             2-D M-Mode. Doppler.     \n",
              "4           4                                 2-D Echocardiogram   \n",
              "\n",
              "             medical_specialty                                sample_name  \\\n",
              "0         Allergy / Immunology                         Allergic Rhinitis    \n",
              "1                   Bariatrics   Laparoscopic Gastric Bypass Consult - 2    \n",
              "2                   Bariatrics   Laparoscopic Gastric Bypass Consult - 1    \n",
              "3   Cardiovascular / Pulmonary                    2-D Echocardiogram - 1    \n",
              "4   Cardiovascular / Pulmonary                    2-D Echocardiogram - 2    \n",
              "\n",
              "                                       transcription  \\\n",
              "0  SUBJECTIVE:,  This 23-year-old white female pr...   \n",
              "1  PAST MEDICAL HISTORY:, He has difficulty climb...   \n",
              "2  HISTORY OF PRESENT ILLNESS: , I have seen ABC ...   \n",
              "3  2-D M-MODE: , ,1.  Left atrial enlargement wit...   \n",
              "4  1.  The left ventricular cavity size and wall ...   \n",
              "\n",
              "                                            keywords  \n",
              "0  allergy / immunology, allergic rhinitis, aller...  \n",
              "1  bariatrics, laparoscopic gastric bypass, weigh...  \n",
              "2  bariatrics, laparoscopic gastric bypass, heart...  \n",
              "3  cardiovascular / pulmonary, 2-d m-mode, dopple...  \n",
              "4  cardiovascular / pulmonary, 2-d, doppler, echo...  "
            ],
            "text/html": [
              "\n",
              "  <div id=\"df-ac1c07d5-09a0-4c73-b18b-a9388e9f96e8\" class=\"colab-df-container\">\n",
              "    <div>\n",
              "<style scoped>\n",
              "    .dataframe tbody tr th:only-of-type {\n",
              "        vertical-align: middle;\n",
              "    }\n",
              "\n",
              "    .dataframe tbody tr th {\n",
              "        vertical-align: top;\n",
              "    }\n",
              "\n",
              "    .dataframe thead th {\n",
              "        text-align: right;\n",
              "    }\n",
              "</style>\n",
              "<table border=\"1\" class=\"dataframe\">\n",
              "  <thead>\n",
              "    <tr style=\"text-align: right;\">\n",
              "      <th></th>\n",
              "      <th>Unnamed: 0</th>\n",
              "      <th>description</th>\n",
              "      <th>medical_specialty</th>\n",
              "      <th>sample_name</th>\n",
              "      <th>transcription</th>\n",
              "      <th>keywords</th>\n",
              "    </tr>\n",
              "  </thead>\n",
              "  <tbody>\n",
              "    <tr>\n",
              "      <th>0</th>\n",
              "      <td>0</td>\n",
              "      <td>A 23-year-old white female presents with comp...</td>\n",
              "      <td>Allergy / Immunology</td>\n",
              "      <td>Allergic Rhinitis</td>\n",
              "      <td>SUBJECTIVE:,  This 23-year-old white female pr...</td>\n",
              "      <td>allergy / immunology, allergic rhinitis, aller...</td>\n",
              "    </tr>\n",
              "    <tr>\n",
              "      <th>1</th>\n",
              "      <td>1</td>\n",
              "      <td>Consult for laparoscopic gastric bypass.</td>\n",
              "      <td>Bariatrics</td>\n",
              "      <td>Laparoscopic Gastric Bypass Consult - 2</td>\n",
              "      <td>PAST MEDICAL HISTORY:, He has difficulty climb...</td>\n",
              "      <td>bariatrics, laparoscopic gastric bypass, weigh...</td>\n",
              "    </tr>\n",
              "    <tr>\n",
              "      <th>2</th>\n",
              "      <td>2</td>\n",
              "      <td>Consult for laparoscopic gastric bypass.</td>\n",
              "      <td>Bariatrics</td>\n",
              "      <td>Laparoscopic Gastric Bypass Consult - 1</td>\n",
              "      <td>HISTORY OF PRESENT ILLNESS: , I have seen ABC ...</td>\n",
              "      <td>bariatrics, laparoscopic gastric bypass, heart...</td>\n",
              "    </tr>\n",
              "    <tr>\n",
              "      <th>3</th>\n",
              "      <td>3</td>\n",
              "      <td>2-D M-Mode. Doppler.</td>\n",
              "      <td>Cardiovascular / Pulmonary</td>\n",
              "      <td>2-D Echocardiogram - 1</td>\n",
              "      <td>2-D M-MODE: , ,1.  Left atrial enlargement wit...</td>\n",
              "      <td>cardiovascular / pulmonary, 2-d m-mode, dopple...</td>\n",
              "    </tr>\n",
              "    <tr>\n",
              "      <th>4</th>\n",
              "      <td>4</td>\n",
              "      <td>2-D Echocardiogram</td>\n",
              "      <td>Cardiovascular / Pulmonary</td>\n",
              "      <td>2-D Echocardiogram - 2</td>\n",
              "      <td>1.  The left ventricular cavity size and wall ...</td>\n",
              "      <td>cardiovascular / pulmonary, 2-d, doppler, echo...</td>\n",
              "    </tr>\n",
              "  </tbody>\n",
              "</table>\n",
              "</div>\n",
              "    <div class=\"colab-df-buttons\">\n",
              "\n",
              "  <div class=\"colab-df-container\">\n",
              "    <button class=\"colab-df-convert\" onclick=\"convertToInteractive('df-ac1c07d5-09a0-4c73-b18b-a9388e9f96e8')\"\n",
              "            title=\"Convert this dataframe to an interactive table.\"\n",
              "            style=\"display:none;\">\n",
              "\n",
              "  <svg xmlns=\"http://www.w3.org/2000/svg\" height=\"24px\" viewBox=\"0 -960 960 960\">\n",
              "    <path d=\"M120-120v-720h720v720H120Zm60-500h600v-160H180v160Zm220 220h160v-160H400v160Zm0 220h160v-160H400v160ZM180-400h160v-160H180v160Zm440 0h160v-160H620v160ZM180-180h160v-160H180v160Zm440 0h160v-160H620v160Z\"/>\n",
              "  </svg>\n",
              "    </button>\n",
              "\n",
              "  <style>\n",
              "    .colab-df-container {\n",
              "      display:flex;\n",
              "      gap: 12px;\n",
              "    }\n",
              "\n",
              "    .colab-df-convert {\n",
              "      background-color: #E8F0FE;\n",
              "      border: none;\n",
              "      border-radius: 50%;\n",
              "      cursor: pointer;\n",
              "      display: none;\n",
              "      fill: #1967D2;\n",
              "      height: 32px;\n",
              "      padding: 0 0 0 0;\n",
              "      width: 32px;\n",
              "    }\n",
              "\n",
              "    .colab-df-convert:hover {\n",
              "      background-color: #E2EBFA;\n",
              "      box-shadow: 0px 1px 2px rgba(60, 64, 67, 0.3), 0px 1px 3px 1px rgba(60, 64, 67, 0.15);\n",
              "      fill: #174EA6;\n",
              "    }\n",
              "\n",
              "    .colab-df-buttons div {\n",
              "      margin-bottom: 4px;\n",
              "    }\n",
              "\n",
              "    [theme=dark] .colab-df-convert {\n",
              "      background-color: #3B4455;\n",
              "      fill: #D2E3FC;\n",
              "    }\n",
              "\n",
              "    [theme=dark] .colab-df-convert:hover {\n",
              "      background-color: #434B5C;\n",
              "      box-shadow: 0px 1px 3px 1px rgba(0, 0, 0, 0.15);\n",
              "      filter: drop-shadow(0px 1px 2px rgba(0, 0, 0, 0.3));\n",
              "      fill: #FFFFFF;\n",
              "    }\n",
              "  </style>\n",
              "\n",
              "    <script>\n",
              "      const buttonEl =\n",
              "        document.querySelector('#df-ac1c07d5-09a0-4c73-b18b-a9388e9f96e8 button.colab-df-convert');\n",
              "      buttonEl.style.display =\n",
              "        google.colab.kernel.accessAllowed ? 'block' : 'none';\n",
              "\n",
              "      async function convertToInteractive(key) {\n",
              "        const element = document.querySelector('#df-ac1c07d5-09a0-4c73-b18b-a9388e9f96e8');\n",
              "        const dataTable =\n",
              "          await google.colab.kernel.invokeFunction('convertToInteractive',\n",
              "                                                    [key], {});\n",
              "        if (!dataTable) return;\n",
              "\n",
              "        const docLinkHtml = 'Like what you see? Visit the ' +\n",
              "          '<a target=\"_blank\" href=https://colab.research.google.com/notebooks/data_table.ipynb>data table notebook</a>'\n",
              "          + ' to learn more about interactive tables.';\n",
              "        element.innerHTML = '';\n",
              "        dataTable['output_type'] = 'display_data';\n",
              "        await google.colab.output.renderOutput(dataTable, element);\n",
              "        const docLink = document.createElement('div');\n",
              "        docLink.innerHTML = docLinkHtml;\n",
              "        element.appendChild(docLink);\n",
              "      }\n",
              "    </script>\n",
              "  </div>\n",
              "\n",
              "\n",
              "<div id=\"df-3f98f01b-4d5c-45bc-b2ad-5d2db243aec4\">\n",
              "  <button class=\"colab-df-quickchart\" onclick=\"quickchart('df-3f98f01b-4d5c-45bc-b2ad-5d2db243aec4')\"\n",
              "            title=\"Suggest charts\"\n",
              "            style=\"display:none;\">\n",
              "\n",
              "<svg xmlns=\"http://www.w3.org/2000/svg\" height=\"24px\"viewBox=\"0 0 24 24\"\n",
              "     width=\"24px\">\n",
              "    <g>\n",
              "        <path d=\"M19 3H5c-1.1 0-2 .9-2 2v14c0 1.1.9 2 2 2h14c1.1 0 2-.9 2-2V5c0-1.1-.9-2-2-2zM9 17H7v-7h2v7zm4 0h-2V7h2v10zm4 0h-2v-4h2v4z\"/>\n",
              "    </g>\n",
              "</svg>\n",
              "  </button>\n",
              "\n",
              "<style>\n",
              "  .colab-df-quickchart {\n",
              "      --bg-color: #E8F0FE;\n",
              "      --fill-color: #1967D2;\n",
              "      --hover-bg-color: #E2EBFA;\n",
              "      --hover-fill-color: #174EA6;\n",
              "      --disabled-fill-color: #AAA;\n",
              "      --disabled-bg-color: #DDD;\n",
              "  }\n",
              "\n",
              "  [theme=dark] .colab-df-quickchart {\n",
              "      --bg-color: #3B4455;\n",
              "      --fill-color: #D2E3FC;\n",
              "      --hover-bg-color: #434B5C;\n",
              "      --hover-fill-color: #FFFFFF;\n",
              "      --disabled-bg-color: #3B4455;\n",
              "      --disabled-fill-color: #666;\n",
              "  }\n",
              "\n",
              "  .colab-df-quickchart {\n",
              "    background-color: var(--bg-color);\n",
              "    border: none;\n",
              "    border-radius: 50%;\n",
              "    cursor: pointer;\n",
              "    display: none;\n",
              "    fill: var(--fill-color);\n",
              "    height: 32px;\n",
              "    padding: 0;\n",
              "    width: 32px;\n",
              "  }\n",
              "\n",
              "  .colab-df-quickchart:hover {\n",
              "    background-color: var(--hover-bg-color);\n",
              "    box-shadow: 0 1px 2px rgba(60, 64, 67, 0.3), 0 1px 3px 1px rgba(60, 64, 67, 0.15);\n",
              "    fill: var(--button-hover-fill-color);\n",
              "  }\n",
              "\n",
              "  .colab-df-quickchart-complete:disabled,\n",
              "  .colab-df-quickchart-complete:disabled:hover {\n",
              "    background-color: var(--disabled-bg-color);\n",
              "    fill: var(--disabled-fill-color);\n",
              "    box-shadow: none;\n",
              "  }\n",
              "\n",
              "  .colab-df-spinner {\n",
              "    border: 2px solid var(--fill-color);\n",
              "    border-color: transparent;\n",
              "    border-bottom-color: var(--fill-color);\n",
              "    animation:\n",
              "      spin 1s steps(1) infinite;\n",
              "  }\n",
              "\n",
              "  @keyframes spin {\n",
              "    0% {\n",
              "      border-color: transparent;\n",
              "      border-bottom-color: var(--fill-color);\n",
              "      border-left-color: var(--fill-color);\n",
              "    }\n",
              "    20% {\n",
              "      border-color: transparent;\n",
              "      border-left-color: var(--fill-color);\n",
              "      border-top-color: var(--fill-color);\n",
              "    }\n",
              "    30% {\n",
              "      border-color: transparent;\n",
              "      border-left-color: var(--fill-color);\n",
              "      border-top-color: var(--fill-color);\n",
              "      border-right-color: var(--fill-color);\n",
              "    }\n",
              "    40% {\n",
              "      border-color: transparent;\n",
              "      border-right-color: var(--fill-color);\n",
              "      border-top-color: var(--fill-color);\n",
              "    }\n",
              "    60% {\n",
              "      border-color: transparent;\n",
              "      border-right-color: var(--fill-color);\n",
              "    }\n",
              "    80% {\n",
              "      border-color: transparent;\n",
              "      border-right-color: var(--fill-color);\n",
              "      border-bottom-color: var(--fill-color);\n",
              "    }\n",
              "    90% {\n",
              "      border-color: transparent;\n",
              "      border-bottom-color: var(--fill-color);\n",
              "    }\n",
              "  }\n",
              "</style>\n",
              "\n",
              "  <script>\n",
              "    async function quickchart(key) {\n",
              "      const quickchartButtonEl =\n",
              "        document.querySelector('#' + key + ' button');\n",
              "      quickchartButtonEl.disabled = true;  // To prevent multiple clicks.\n",
              "      quickchartButtonEl.classList.add('colab-df-spinner');\n",
              "      try {\n",
              "        const charts = await google.colab.kernel.invokeFunction(\n",
              "            'suggestCharts', [key], {});\n",
              "      } catch (error) {\n",
              "        console.error('Error during call to suggestCharts:', error);\n",
              "      }\n",
              "      quickchartButtonEl.classList.remove('colab-df-spinner');\n",
              "      quickchartButtonEl.classList.add('colab-df-quickchart-complete');\n",
              "    }\n",
              "    (() => {\n",
              "      let quickchartButtonEl =\n",
              "        document.querySelector('#df-3f98f01b-4d5c-45bc-b2ad-5d2db243aec4 button');\n",
              "      quickchartButtonEl.style.display =\n",
              "        google.colab.kernel.accessAllowed ? 'block' : 'none';\n",
              "    })();\n",
              "  </script>\n",
              "</div>\n",
              "\n",
              "    </div>\n",
              "  </div>\n"
            ],
            "application/vnd.google.colaboratory.intrinsic+json": {
              "type": "dataframe",
              "variable_name": "data",
              "summary": "{\n  \"name\": \"data\",\n  \"rows\": 4999,\n  \"fields\": [\n    {\n      \"column\": \"Unnamed: 0\",\n      \"properties\": {\n        \"dtype\": \"number\",\n        \"std\": 1443,\n        \"min\": 0,\n        \"max\": 4998,\n        \"num_unique_values\": 4999,\n        \"samples\": [\n          84,\n          2470,\n          2804\n        ],\n        \"semantic_type\": \"\",\n        \"description\": \"\"\n      }\n    },\n    {\n      \"column\": \"description\",\n      \"properties\": {\n        \"dtype\": \"category\",\n        \"num_unique_values\": 2348,\n        \"samples\": [\n          \" MRI left shoulder.\",\n          \" Left heart catheterization with left ventriculography and selective coronary angiography.  Percutaneous transluminal coronary angioplasty and stent placement of the right coronary artery.\",\n          \" Iron deficiency anemia.  She underwent a bone marrow biopsy which showed a normal cellular marrow with trilineage hematopoiesis.\"\n        ],\n        \"semantic_type\": \"\",\n        \"description\": \"\"\n      }\n    },\n    {\n      \"column\": \"medical_specialty\",\n      \"properties\": {\n        \"dtype\": \"category\",\n        \"num_unique_values\": 40,\n        \"samples\": [\n          \" Ophthalmology\",\n          \" Pediatrics - Neonatal\",\n          \" Physical Medicine - Rehab\"\n        ],\n        \"semantic_type\": \"\",\n        \"description\": \"\"\n      }\n    },\n    {\n      \"column\": \"sample_name\",\n      \"properties\": {\n        \"dtype\": \"category\",\n        \"num_unique_values\": 2377,\n        \"samples\": [\n          \" Revocation Admission \",\n          \" Bilateral Hip Pain \",\n          \" Inguinal Hernia Repair - 4 \"\n        ],\n        \"semantic_type\": \"\",\n        \"description\": \"\"\n      }\n    },\n    {\n      \"column\": \"transcription\",\n      \"properties\": {\n        \"dtype\": \"category\",\n        \"num_unique_values\": 2357,\n        \"samples\": [\n          \"SUBJECTIVE:,  Patient presents with Mom and Dad for her 5-year 3-month well-child check.  Family has not concerns stating patient has been doing well overall since last visit.  Taking in a well-balanced diet consisting of milk and dairy products, fruits, vegetables, proteins and grains with minimal junk food and snack food.  No behavioral concerns.  Gets along well with peers as well as adults.  Is excited to start kindergarten this upcoming school year.  Does attend daycare.  Normal voiding and stooling pattern.  No concerns with hearing or vision.  Sees the dentist regularly.  Growth and development:  Denver II normal passing all developmental milestones per age in areas of fine motor, gross motor, personal and social interaction and speech and language development.  See Denver II form in the chart.,ALLERGIES:,  None.,MEDICATIONS: , None.,FAMILY SOCIAL HISTORY:,  Unchanged since last checkup.  Lives at home with mother, father and sibling.  No smoking in the home.,REVIEW OF SYSTEMS:,  As per HPI; otherwise negative.,OBJECTIVE:,Vital Signs:  Weight 43 pounds.  Height 42-1/4 inches.  Temperature 97.7.  Blood pressure 90/64.,General:  Well-developed, well-nourished, cooperative, alert and interactive 5-year -3month-old white female in no acute distress.,HEENT:  Atraumatic, normocephalic.  Pupils equal, round and reactive.  Sclerae clear.  Red reflex present bilaterally.  Extraocular muscles intact.  TMs clear bilaterally.  Oropharynx:  Mucous membranes moist and pink.  Good dentition.,Neck:  Supple, no lymphadenopathy.,Chest:  Clear to auscultation bilaterally.  No wheeze or crackles.  Good air exchange.,Cardiovascular:  Regular rate and rhythm.  No murmur.  Good pulses bilaterally.,Abdomen:  Soft, nontender.  Nondistended.  Positive bowel sounds.  No masses or organomegaly.,GU:  Tanner I female genitalia.  Femoral pulses equal bilaterally.  No rash.,Extremities:  Full range of motion.  No cyanosis, clubbing or edema.,Back:  Straight.  No scoliosis.,Integument:  Warm, dry and pink without lesions.,Neurological:  Alert.  Good muscle tone and strength.  Cranial nerves II-XII grossly intact.  DTRs 2+/4+ bilaterally.,ASSESSMENT/PLAN:,1. Well 5-year 3-month-old white female.,2. Anticipatory guidance for growth and diet development and safety issues as well as immunizations.  Will receive MMR, DTaP and IPV today.  Discussed risks and benefits as well as possible side effects and symptomatic treatment.  Gave 5-year well-child check handout to mom.  Completed school pre-participation physical.  Copy in the chart.  Completed vision and hearing screening.  Reviewed results with family.,3. Follow up in one year for next well-child check or as needed for acute care.\",\n          \"PREOPERATIVE DIAGNOSES: , Erythema of the right knee and leg, possible septic knee.,POSTOPERATIVE DIAGNOSES:,  Erythema of the right knee superficial and leg, right septic knee ruled out.,INDICATIONS: , Mr. ABC is a 52-year-old male who has had approximately eight days of erythema over his knee.  He has been to multiple institutions as an outpatient for this complaint.  He has had what appears to be prepatellar bursa aspirated with little to no success.  He has been treated with Kefzol and 1 g of Rocephin one point.  He also reports, in the emergency department today, an attempt was made to aspirate his actual knee joint which was unsuccessful.  Orthopedic Surgery was consulted at this time.  Considering the patient's physical exam, there is a portal that would prove to be outside of the erythema that would be useful for aspiration of the knee.  After discussion of risks and benefits, the patient elected to proceed with aspiration through the anterolateral portal of his knee joint.,PROCEDURE:  ,The patient's right anterolateral knee area was prepped with Betadine times two and a 20-gauge spinal needle was used to approach the knee joint approximately 3 cm anterior and 2 cm lateral to the superolateral pole of the patella.  The 20-gauge spinal needle was inserted and entered the knee joint.  Approximately, 4 cc of clear yellow fluid was aspirated.  The patient tolerated the procedure well.,DISPOSITION: , Based upon the appearance of this synovial fluid, we have a very low clinical suspicion of a septic joint.  We will send this fluid to the lab for cell count, crystal exam, as well as culture and Gram stain.  We will follow these results.  After discussion with the emergency department staff, it appears that they tend to try to treat his erythema which appears to be cellulitis with IV antibiotics.\",\n          \"REASON FOR CONSULT:,  Depression.,HPI:,  The patient is an 87-year-old white female admitted for low back pain status post hip fracture sustained a few days before Thanksgiving in 2006.  The patient was diagnosed and treated for a T9 compression fraction with vertebroplasty.  Soon after discharge, the patient was readmitted with severe mid low back pain and found to have a T8 compression fracture.  This was also treated with vertebroplasty.  The patient is now complaining of back pain that fluctuates at time, acknowledging her pain medication works but not all the time.  Her pain is in her upper back around her shoulder blades.  The patient says lying down with the heated pad lessens the pain and that any physical activity increases it.  MRI on January 29, 2007, was positive for possible meningioma to the left of anterior box.,The patient reports of many depressive symptoms, has lost all interest in things she used to do (playing cards, reading).  Has no energy to do things she likes, but does participate in physical therapy, cries often and what she believes for no reason.  Does not see any future for herself.  Reports not being able to concentrate on anything saying she gets distracted by thoughts of how she does not want to live anymore.  Admits to decreased appetite, feeling depressed, and always wanting to be alone.  Claims that before her initial hospitalization for her hip fracture, she was highly active, enjoyed living independently at Terrace.  Denies suicidal ideations and homicidal ideations, but that she did not mind dying, and denies any manic symptoms including decreased need to sleep, inflated self-worth, and impulsivity.  Denies auditory and visual hallucinations.  No paranoid, delusions, or other abnormalities of thought content.  Denies panic attacks, flashbacks, and other feelings of anxiety.  Does admit to feeling restless at times.  Is concerned with her physical appearance while in the hospital, i.e., her hair looking \\\"awful.\\\",PAST MEDICAL HISTORY:,  Hypertension, cataracts, hysterectomy, MI, osteoporosis, right total knee replacement in April 2004, hip fracture, and newly diagnosed diabetes.  No history of thyroid problems, seizures, strokes, or head injuries.,CURRENT MEDICATIONS:,  Norvasc 10 mg p.o. daily, aspirin 81 mg p.o. daily, Lipitor 20 mg p.o. daily, Klonopin 0.5 mg p.o. b.i.d., digoxin 0.125 mg p.o. daily, Lexapro 10 mg p.o. daily, TriCor 145 mg p.o. each bedtime, Lasix 20 mg p.o. daily, Ismo 20 mg p.o. daily, lidocaine patch, Zestril, Prinivil 40 mg p.o. daily, Lopressor 75 mg p.o. b.i.d., Starlix 120 mg p.o. t.i.d., Pamelor 25 mg p.o. each bedtime, polyethylene glycol 17 g p.o. every other day, potassium chloride 20 mEq p.o. t.i.d., Norco one tablet p.o. q.4h. p.r.n., Zofran 4 mg IV q.6h.,HOME MEDICATIONS:,  Unknown.,ALLERGIES:,  CODEINE (HALLUCINATIONS).,FAMILY MEDICAL HISTORY:,  Unremarkable.,PAST PSYCHIATRIC HISTORY:,  Unremarkable.  Never taken any psychiatric medications or have ever had a family member with psychiatric illness.,SOCIAL/DEVELOPMENTAL HISTORY:,  Unremarkable childhood.  Married for 40 plus years, widowed in 1981.  Worked as administrative assistant in UTMB Hospitals VP's office.  Two children.  Before admission, lived in the Terrace Independent Living Center.  Was happy and very active while living there.  Had friends in the Terrace and would not mind going back there after discharge.  Occasional glass of wine at dinner.  Denies ever using illicit drugs and tobacco.,MENTAL STATUS EXAM:,  The patient is an 87-year-old white female with appropriate appearance, wearing street clothes while lying in bed with her eyes tightly closed.  Slight decrease in motor activity.  Normal eye contact.  Speech, low volume and rate.  Good articulation and inflexion.  Normal concentration.  Mood, labile, tearful at times, depressed, then euthymic.  Affect, mood congruent, full range.  Thought process, logical and goal directed.  Thought content, no delusions, suicidal or homicidal ideations.  Perception, no auditory or visual hallucinations.  Sensorium, alert, and oriented x3.  Memory, fair.  Information and intelligence, average.  Judgment and insight, fair.,MINI MENTAL STATUS EXAM,:  A 28/30.  Could not remember two out of the three recalled words.,ASSESSMENT:,  The patient is an 87-year-old white female with recent history of hip fracture and two thoracic compression fractures.  The patient reports being high functioning prior to admission and says her depression symptoms have occurred while being in the hospital.,Axis I:  Major depression disorder.,Axis II:  Deferred.,Axis III:  Osteoporosis, hypertension, hip fracture, possible diabetes, meningioma, MI, and right total knee replacement.,Axis IV:  Lives independently at Terrace, difficulty walking, hospitalization.,Axis V:  45.,PLAN:,  Continue Lexapro 10 mg daily and Pamelor 25 mg each bedtime monitor for adverse effects of TCA and worsening of depressive symptoms.  Discussed about possible inpatient psychiatric care.,Thank you for the consultation.\"\n        ],\n        \"semantic_type\": \"\",\n        \"description\": \"\"\n      }\n    },\n    {\n      \"column\": \"keywords\",\n      \"properties\": {\n        \"dtype\": \"string\",\n        \"num_unique_values\": 3849,\n        \"samples\": [\n          \"surgery, extensor tendon laceration, bier block, pip joint, extensor tendon, tendon, repair, finger, laceration, extensor,\",\n          \"surgery, scrotal incision, right vas, bleeding, anesthesia, vasectomy\",\n          \"radiology, i-125 implantation, tumor, prostate, prostate brachytherapy, implantationNOTE,: Thesetranscribed medical transcription sample reports and examples are provided by various users andare for reference purpose only. MTHelpLine does not certify accuracy and quality of sample reports.These transcribed medical transcription sample reports may include some uncommon or unusual formats;this would be due to the preference of the dictating physician. All names and dates have beenchanged (or removed) to keep confidentiality. Any resemblance of any type of name or date orplace or anything else to real world is purely incidental.\"\n        ],\n        \"semantic_type\": \"\",\n        \"description\": \"\"\n      }\n    }\n  ]\n}"
            }
          },
          "metadata": {},
          "execution_count": 5
        }
      ]
    },
    {
      "cell_type": "markdown",
      "source": [
        "## 4. Displaying Basic Statistics\n",
        "Basic statistical details of the dataset are displayed"
      ],
      "metadata": {
        "id": "ofpg3iw8lRq9"
      }
    },
    {
      "cell_type": "code",
      "source": [
        "# Display basic statistics\n",
        "print(data.describe())"
      ],
      "metadata": {
        "colab": {
          "base_uri": "https://localhost:8080/"
        },
        "id": "h9xeQyLvlONj",
        "outputId": "7aa54502-c73d-4a7c-a4cb-378cca718d1e"
      },
      "execution_count": null,
      "outputs": [
        {
          "output_type": "stream",
          "name": "stdout",
          "text": [
            "        Unnamed: 0\n",
            "count  4999.000000\n",
            "mean   2499.000000\n",
            "std    1443.231328\n",
            "min       0.000000\n",
            "25%    1249.500000\n",
            "50%    2499.000000\n",
            "75%    3748.500000\n",
            "max    4998.000000\n"
          ]
        }
      ]
    },
    {
      "cell_type": "markdown",
      "source": [
        "# 5. Preprocessing\n",
        "### 5.1 Removing Unnecessary Columns\n",
        "\n",
        "If there is an index column named 'Unnamed: 0', it is dropped."
      ],
      "metadata": {
        "id": "KoSkila1lYH9"
      }
    },
    {
      "cell_type": "code",
      "source": [
        "# Drop index column if it exists\n",
        "if 'Unnamed: 0' in data.columns:\n",
        "    data = data.drop(columns=['Unnamed: 0'])\n"
      ],
      "metadata": {
        "id": "f6d7neCOlnAh"
      },
      "execution_count": null,
      "outputs": []
    },
    {
      "cell_type": "markdown",
      "source": [
        "### 5.2 Defining Features and Labels\n",
        "\n",
        "The features (X) and labels (y) are defined. Here, 'description' is used as the feature and 'medical_specialty' as the label."
      ],
      "metadata": {
        "id": "vEXkxwJumHIl"
      }
    },
    {
      "cell_type": "code",
      "source": [
        "# Define features and labels\n",
        "X = data['description']\n",
        "y = data['medical_specialty']\n"
      ],
      "metadata": {
        "id": "G18KO2vqlogw"
      },
      "execution_count": null,
      "outputs": []
    },
    {
      "cell_type": "markdown",
      "source": [
        "## 6. Splitting the Data\n",
        "The dataset is split into training and testing sets."
      ],
      "metadata": {
        "id": "0cEWjsPRm6t2"
      }
    },
    {
      "cell_type": "code",
      "source": [
        "# Split the dataset into training and testing sets\n",
        "X_train, X_test, y_train, y_test = train_test_split(X, y, test_size=0.2, random_state=42)"
      ],
      "metadata": {
        "id": "TY_xFm23m81R"
      },
      "execution_count": null,
      "outputs": []
    },
    {
      "cell_type": "markdown",
      "source": [
        "## 7. Text Vectorization\n",
        "TF-IDF Vectorizer is used to convert text data into numerical format."
      ],
      "metadata": {
        "id": "ywRUGEYRm_TX"
      }
    },
    {
      "cell_type": "code",
      "source": [
        "vectorizer = TfidfVectorizer()\n",
        "X_train_tfidf = vectorizer.fit_transform(X_train)\n",
        "X_test_tfidf = vectorizer.transform(X_test)"
      ],
      "metadata": {
        "id": "xiAD4SocnByH"
      },
      "execution_count": null,
      "outputs": []
    },
    {
      "cell_type": "markdown",
      "source": [
        "## 8. Model Training and Evaluation\n",
        "### 8.1 Logistic Regression Model\n",
        "\n",
        "A Logistic Regression model is initialized, trained on the training data, and used to make predictions on the test data"
      ],
      "metadata": {
        "id": "i3kaG-OfnHYb"
      }
    },
    {
      "cell_type": "code",
      "source": [
        "# Initialize and train the classifier\n",
        "model = LogisticRegression(max_iter=1000)\n",
        "model.fit(X_train_tfidf, y_train)\n",
        "\n",
        "# Make predictions\n",
        "y_pred = model.predict(X_test_tfidf)\n"
      ],
      "metadata": {
        "id": "u62uwTt5nDgJ"
      },
      "execution_count": null,
      "outputs": []
    },
    {
      "cell_type": "markdown",
      "source": [
        "### 8.2 Model Evaluation\n",
        "\n",
        "The model's performance is evaluated using accuracy score and classification report."
      ],
      "metadata": {
        "id": "k4mtS3ztnOJh"
      }
    },
    {
      "cell_type": "code",
      "source": [
        "# Evaluate the model\n",
        "print(\"Accuracy:\", accuracy_score(y_test, y_pred))\n",
        "print(\"Classification Report:\\n\", classification_report(y_test, y_pred))"
      ],
      "metadata": {
        "colab": {
          "base_uri": "https://localhost:8080/"
        },
        "id": "zBi_yOAonHlm",
        "outputId": "fe6b1838-312f-484d-cac6-cc17ee034fc0"
      },
      "execution_count": null,
      "outputs": [
        {
          "output_type": "stream",
          "name": "stdout",
          "text": [
            "Accuracy: 0.234\n",
            "Classification Report:\n",
            "                                 precision    recall  f1-score   support\n",
            "\n",
            "          Allergy / Immunology       0.00      0.00      0.00         1\n",
            "                       Autopsy       0.00      0.00      0.00         2\n",
            "                    Bariatrics       0.00      0.00      0.00         3\n",
            "    Cardiovascular / Pulmonary       0.19      0.22      0.20        69\n",
            "                  Chiropractic       0.00      0.00      0.00         1\n",
            "    Consult - History and Phy.       0.21      0.39      0.28       107\n",
            "    Cosmetic / Plastic Surgery       0.00      0.00      0.00         4\n",
            "                     Dentistry       0.00      0.00      0.00         8\n",
            "                   Dermatology       0.00      0.00      0.00         3\n",
            "          Diets and Nutritions       0.00      0.00      0.00         1\n",
            "             Discharge Summary       0.50      0.05      0.09        21\n",
            "          ENT - Otolaryngology       0.25      0.04      0.07        25\n",
            "        Emergency Room Reports       0.00      0.00      0.00        17\n",
            "                 Endocrinology       0.00      0.00      0.00         3\n",
            "              Gastroenterology       0.17      0.12      0.14        42\n",
            "              General Medicine       0.15      0.10      0.12        50\n",
            "         Hematology - Oncology       0.00      0.00      0.00        15\n",
            "     Hospice - Palliative Care       0.00      0.00      0.00         2\n",
            "        IME-QME-Work Comp etc.       0.00      0.00      0.00         1\n",
            "      Lab Medicine - Pathology       0.00      0.00      0.00         1\n",
            "                       Letters       0.00      0.00      0.00         1\n",
            "                    Nephrology       0.00      0.00      0.00        15\n",
            "                     Neurology       0.12      0.07      0.09        44\n",
            "                  Neurosurgery       0.00      0.00      0.00        18\n",
            "       Obstetrics / Gynecology       0.07      0.03      0.04        35\n",
            "                  Office Notes       0.00      0.00      0.00        11\n",
            "                 Ophthalmology       0.00      0.00      0.00        18\n",
            "                    Orthopedic       0.13      0.13      0.13        68\n",
            "               Pain Management       0.50      0.22      0.31         9\n",
            "         Pediatrics - Neonatal       0.50      0.07      0.12        15\n",
            "     Physical Medicine - Rehab       0.00      0.00      0.00         7\n",
            "                      Podiatry       0.00      0.00      0.00         5\n",
            "       Psychiatry / Psychology       0.00      0.00      0.00         7\n",
            "                     Radiology       0.24      0.15      0.18        68\n",
            "                  Rheumatology       0.00      0.00      0.00         6\n",
            " SOAP / Chart / Progress Notes       0.25      0.07      0.11        27\n",
            "                Sleep Medicine       0.00      0.00      0.00         2\n",
            "                       Surgery       0.29      0.59      0.39       231\n",
            "                       Urology       0.10      0.03      0.04        37\n",
            "\n",
            "                      accuracy                           0.23      1000\n",
            "                     macro avg       0.09      0.06      0.06      1000\n",
            "                  weighted avg       0.19      0.23      0.18      1000\n",
            "\n"
          ]
        },
        {
          "output_type": "stream",
          "name": "stderr",
          "text": [
            "/usr/local/lib/python3.10/dist-packages/sklearn/metrics/_classification.py:1344: UndefinedMetricWarning: Precision and F-score are ill-defined and being set to 0.0 in labels with no predicted samples. Use `zero_division` parameter to control this behavior.\n",
            "  _warn_prf(average, modifier, msg_start, len(result))\n",
            "/usr/local/lib/python3.10/dist-packages/sklearn/metrics/_classification.py:1344: UndefinedMetricWarning: Precision and F-score are ill-defined and being set to 0.0 in labels with no predicted samples. Use `zero_division` parameter to control this behavior.\n",
            "  _warn_prf(average, modifier, msg_start, len(result))\n",
            "/usr/local/lib/python3.10/dist-packages/sklearn/metrics/_classification.py:1344: UndefinedMetricWarning: Precision and F-score are ill-defined and being set to 0.0 in labels with no predicted samples. Use `zero_division` parameter to control this behavior.\n",
            "  _warn_prf(average, modifier, msg_start, len(result))\n"
          ]
        }
      ]
    },
    {
      "cell_type": "markdown",
      "source": [
        "## 9. Encoding Labels\n",
        "The 'medical_specialty' column is encoded to numerical labels using LabelEncoder."
      ],
      "metadata": {
        "id": "4B8CyZrCnTl6"
      }
    },
    {
      "cell_type": "code",
      "source": [
        "# Initialize the LabelEncoder\n",
        "le = LabelEncoder()\n",
        "\n",
        "# Encode the 'medical_specialty' column\n",
        "data['medical_specialty'] = le.fit_transform(data['medical_specialty'])\n",
        "\n",
        "# Inspect the transformed labels\n",
        "print(data['medical_specialty'].unique())\n"
      ],
      "metadata": {
        "colab": {
          "base_uri": "https://localhost:8080/"
        },
        "id": "JSJwvBYqnMKM",
        "outputId": "ace21e68-f327-4a2a-fce8-809f8d0d8107"
      },
      "execution_count": null,
      "outputs": [
        {
          "output_type": "stream",
          "name": "stdout",
          "text": [
            "[ 0  2  3 22  7 39 15 38 37 35 36 34 33 32 31 30 29 28 27 26 25 24 23 21\n",
            " 20 19 18 17 16 14 11 13 12 10  9  8  6  5  4  1]\n"
          ]
        }
      ]
    },
    {
      "cell_type": "markdown",
      "source": [
        "# 10. Re-Vectorization with Additional Options\n",
        "TF-IDF Vectorizer is re-initialized with specific parameters and applied to the 'description' text."
      ],
      "metadata": {
        "id": "49O89--gnYMv"
      }
    },
    {
      "cell_type": "code",
      "source": [
        "# Initialize the TF-IDF Vectorizer\n",
        "vectorizer = TfidfVectorizer(stop_words='english', max_features=1000)\n",
        "\n",
        "# Fit and transform the 'description' text\n",
        "X = vectorizer.fit_transform(data['description'])\n",
        "\n",
        "# Inspect the feature names\n",
        "print(vectorizer.get_feature_names_out())\n"
      ],
      "metadata": {
        "colab": {
          "base_uri": "https://localhost:8080/"
        },
        "id": "5C8EnbyMnOZp",
        "outputId": "52a3fcd4-a3db-4789-eaf3-da3fd3635b65"
      },
      "execution_count": null,
      "outputs": [
        {
          "output_type": "stream",
          "name": "stdout",
          "text": [
            "['10' '100' '11' '12' '14' '15' '16' '17' '18' '20' '21' '25' '26' '30'\n",
            " '300' '32' '40' '51' '52' '53' '62' '66' '67' '69' 'abdomen' 'abdominal'\n",
            " 'ablation' 'abnormal' 'abscess' 'abuse' 'access' 'accident' 'activity'\n",
            " 'acute' 'adenocarcinoma' 'adenoid' 'adenoidectomy' 'adhesions' 'adjacent'\n",
            " 'admission' 'admitted' 'adrenal' 'advanced' 'age' 'aged' 'ago' 'air'\n",
            " 'airway' 'alcohol' 'allergic' 'allergies' 'allograft' 'anastomosis'\n",
            " 'anemia' 'anesthesia' 'aneurysm' 'angina' 'angiogram' 'angiography'\n",
            " 'angioplasty' 'ankle' 'answers' 'anterior' 'antibiotic' 'anxiety'\n",
            " 'aortic' 'aphasia' 'apnea' 'aponeurosis' 'appendectomy' 'appendicitis'\n",
            " 'application' 'approach' 'approximately' 'area' 'areas' 'arm' 'arms'\n",
            " 'arterial' 'arteriovenous' 'artery' 'arthritis' 'arthrodesis'\n",
            " 'arthroplasty' 'arthroscopic' 'arthroscopy' 'aspect' 'aspiration'\n",
            " 'assess' 'assist' 'assisted' 'associated' 'atrial' 'attempt' 'attempted'\n",
            " 'atypical' 'austin' 'autologous' 'axial' 'axillary' 'baby' 'basal' 'base'\n",
            " 'bengal' 'benign' 'bilateral' 'bilaterally' 'biopsies' 'biopsy' 'bipolar'\n",
            " 'black' 'bladder' 'bleed' 'bleeding' 'blepharoplasty' 'block' 'blood'\n",
            " 'body' 'bone' 'borderline' 'bowel' 'boy' 'brain' 'branch' 'breast'\n",
            " 'breath' 'breathing' 'bronchoscopy' 'brought' 'bunion' 'bunionectomy'\n",
            " 'bypass' 'c3' 'c4' 'c5' 'c6' 'c7' 'calorie' 'came' 'canal' 'cancer'\n",
            " 'carcinoma' 'cardiac' 'cardiomyopathy' 'cardioversion' 'care' 'carotid'\n",
            " 'carpal' 'carried' 'cartilage' 'cast' 'cataract' 'cath' 'catheter'\n",
            " 'catheterization' 'caucasian' 'cavity' 'cecum' 'cell' 'cellulitis'\n",
            " 'central' 'cerebral' 'cerebrovascular' 'cervical' 'cervix' 'cesarean'\n",
            " 'chamber' 'change' 'changes' 'check' 'cheek' 'chemotherapy' 'chest'\n",
            " 'chief' 'child' 'chills' 'cholecystectomy' 'cholecystitis'\n",
            " 'cholelithiasis' 'chondroplasty' 'chronic' 'circumcision' 'circumflex'\n",
            " 'clear' 'clinic' 'closed' 'closure' 'cm' 'code' 'cognitive' 'cold'\n",
            " 'colon' 'colonoscopy' 'comes' 'common' 'compartment' 'complaining'\n",
            " 'complains' 'complaint' 'complaints' 'complete' 'complex' 'complications'\n",
            " 'comprehensive' 'concern' 'confirmed' 'congestion' 'congestive'\n",
            " 'conjunctival' 'consciousness' 'conservative' 'consistent' 'constipation'\n",
            " 'consult' 'consultation' 'contrast' 'control' 'copd' 'cord' 'coronary'\n",
            " 'cough' 'course' 'craniotomy' 'creation' 'ct' 'cuff' 'curettage'\n",
            " 'current' 'currently' 'cva' 'cyst' 'cystoscopy' 'cystourethroscopy'\n",
            " 'cytology' 'daily' 'day' 'days' 'debridement' 'decompression' 'decreased'\n",
            " 'deep' 'defect' 'deficiency' 'deformity' 'degenerative' 'degree'\n",
            " 'delivery' 'dementia' 'demonstrated' 'denies' 'dental' 'department'\n",
            " 'dependent' 'depression' 'descending' 'description' 'desires' 'developed'\n",
            " 'device' 'diabetes' 'diabetic' 'diagnosed' 'diagnosis' 'diagnostic'\n",
            " 'diarrhea' 'did' 'dietary' 'difficult' 'difficulty' 'digit' 'digital'\n",
            " 'dilatation' 'dilation' 'direct' 'disc' 'discectomy' 'discharge'\n",
            " 'discomfort' 'disease' 'disk' 'disorder' 'dissection' 'distal' 'distress'\n",
            " 'diverticulosis' 'dizziness' 'does' 'doing' 'doppler' 'dorsal' 'dose'\n",
            " 'double' 'drain' 'drainage' 'dual' 'dysfunction' 'dysphagia' 'dyspnea'\n",
            " 'ear' 'echocardiogram' 'edema' 'eeg' 'effusion' 'egd' 'ekg' 'elbow'\n",
            " 'elevated' 'elevation' 'embolism' 'emergency' 'emg' 'end' 'endometrial'\n",
            " 'endometriosis' 'endoscopic' 'endoscopy' 'enlarged' 'epidural'\n",
            " 'epigastric' 'episode' 'episodes' 'er' 'esophageal'\n",
            " 'esophagogastroduodenoscopy' 'esophagus' 'etiology' 'evacuation'\n",
            " 'evaluate' 'evaluation' 'evidence' 'exacerbation' 'exam' 'examination'\n",
            " 'example' 'excision' 'excisional' 'exercise' 'exploration' 'exploratory'\n",
            " 'exposure' 'extension' 'extensive' 'extensor' 'external' 'extraction'\n",
            " 'extremities' 'extremity' 'eye' 'facial' 'failed' 'failure' 'fall'\n",
            " 'family' 'fascia' 'fasciotomy' 'fashion' 'fat' 'fatigue' 'feeding'\n",
            " 'feeling' 'feet' 'fell' 'felt' 'female' 'femoral' 'fetal' 'fever'\n",
            " 'fiberoptic' 'fibrillation' 'fibroid' 'field' 'fifth' 'findings' 'finger'\n",
            " 'fingers' 'fistula' 'fixation' 'flank' 'flap' 'flexible' 'flexor' 'fluid'\n",
            " 'fluoroscopic' 'fluoroscopy' 'fold' 'follow' 'followed' 'following'\n",
            " 'followup' 'food' 'foot' 'foraminotomies' 'forearm' 'foreign' 'fourth'\n",
            " 'fracture' 'fractures' 'free' 'french' 'frontal' 'function' 'fusion'\n",
            " 'gallbladder' 'ganglion' 'gastric' 'gastroesophageal' 'gastrointestinal'\n",
            " 'gastrostomy' 'general' 'generalized' 'gentleman' 'gi' 'given' 'glenoid'\n",
            " 'goiter' 'good' 'gore' 'grade' 'graft' 'grafting' 'greater' 'guidance'\n",
            " 'guided' 'half' 'hallux' 'hand' 'hardware' 'harvesting' 'having' 'head'\n",
            " 'headache' 'headaches' 'heart' 'hematoma' 'hematuria' 'hemiarthroplasty'\n",
            " 'hemodialysis' 'hemorrhage' 'hemorrhoids' 'hernia' 'herniated'\n",
            " 'herniation' 'herniorrhaphy' 'hiatal' 'high' 'hip' 'history' 'home'\n",
            " 'hospital' 'hour' 'hours' 'hydrocele' 'hydrocephalus' 'hyperlipidemia'\n",
            " 'hypertension' 'hypertrophy' 'hypothyroidism' 'hysterectomy'\n",
            " 'hysteroscopy' 'identified' 'identify' 'ii' 'iii' 'iliac' 'images'\n",
            " 'imaging' 'implant' 'implantation' 'improved' 'incision' 'including'\n",
            " 'increased' 'increasing' 'infant' 'infarct' 'infarction' 'infected'\n",
            " 'infection' 'inferior' 'inflammatory' 'inguinal' 'initial' 'injection'\n",
            " 'injury' 'inserted' 'insertion' 'instructions' 'instrumentation'\n",
            " 'insufficiency' 'intact' 'interbody' 'intermittent' 'internal'\n",
            " 'interpretation' 'intracranial' 'intractable' 'intraocular'\n",
            " 'intraoperative' 'intrauterine' 'intravenous' 'involving' 'iron'\n",
            " 'irrigation' 'ischemia' 'ischemic' 'isovue' 'iv' 'jaw' 'joint' 'junction'\n",
            " 'just' 'kidney' 'knee' 'known' 'l2' 'l3' 'l4' 'l5' 'labor' 'labrum'\n",
            " 'laceration' 'lady' 'laminectomy' 'laparoscopic' 'laparoscopy'\n",
            " 'laparotomy' 'large' 'laryngoscopy' 'laser' 'lateral' 'lavage' 'lead'\n",
            " 'left' 'leg' 'legs' 'lens' 'lesion' 'lesions' 'level' 'lid' 'lidocaine'\n",
            " 'ligament' 'ligation' 'like' 'likely' 'line' 'liver' 'lobe' 'lobectomy'\n",
            " 'local' 'long' 'longstanding' 'loose' 'loss' 'low' 'lower' 'lumbar'\n",
            " 'lumen' 'lung' 'lv' 'lymph' 'lymphadenectomy' 'lymphoma' 'lysis' 'main'\n",
            " 'major' 'male' 'malignant' 'mammary' 'mammogram' 'man' 'management'\n",
            " 'mandible' 'marginal' 'marrow' 'mass' 'media' 'medial' 'median'\n",
            " 'mediastinal' 'medical' 'medications' 'medicine' 'mellitus' 'memory'\n",
            " 'mesothelioma' 'metastatic' 'metatarsal' 'mg' 'microscope' 'microscopic'\n",
            " 'mid' 'middle' 'midline' 'mild' 'minutes' 'mitral' 'ml' 'mm' 'moderate'\n",
            " 'modified' 'monitoring' 'month' 'months' 'morbid' 'morning' 'mother'\n",
            " 'motor' 'mouth' 'mri' 'multiple' 'muscle' 'myocardial' 'nasal' 'nausea'\n",
            " 'neck' 'need' 'needle' 'needs' 'negative' 'neoplasm' 'nerve' 'neural'\n",
            " 'neuropathy' 'neuropsychological' 'new' 'newborn' 'newly' 'night'\n",
            " 'nipple' 'node' 'non' 'noncontrast' 'normal' 'nose' 'note' 'noted'\n",
            " 'nuclear' 'nucleus' 'numbness' 'obesity' 'obstruction' 'obstructive'\n",
            " 'obtained' 'obtuse' 'occasional' 'office' 'old' 'onset' 'oophorectomy'\n",
            " 'open' 'operating' 'operative' 'oral' 'orbital' 'orchiopexy'\n",
            " 'osteoarthritis' 'osteotomy' 'otitis' 'outpatient' 'ovarian' 'pacemaker'\n",
            " 'pain' 'painful' 'papillary' 'parents' 'parietal' 'partial' 'past'\n",
            " 'patch' 'patent' 'pathology' 'patient' 'pattern' 'pedicle' 'pelvic'\n",
            " 'pelvis' 'penile' 'percutaneous' 'perforation' 'performed' 'perfusion'\n",
            " 'peripheral' 'peritoneal' 'permanent' 'persistent' 'phacoemulsification'\n",
            " 'phalanx' 'physical' 'placed' 'placement' 'planned' 'plantar' 'plate'\n",
            " 'pleasant' 'pleural' 'plus' 'pneumonia' 'polyp' 'polypectomy' 'polyps'\n",
            " 'poor' 'port' 'portion' 'position' 'positive' 'possible' 'possibly'\n",
            " 'post' 'posterior' 'postoperative' 'pregnancy' 'premature' 'preoperative'\n",
            " 'presented' 'presents' 'pressure' 'previous' 'primary' 'prior' 'probable'\n",
            " 'problems' 'procedure' 'progress' 'progressive' 'prostate' 'protocol'\n",
            " 'proximal' 'psychiatric' 'pulley' 'pulmonary' 'pulposus' 'pump'\n",
            " 'puncture' 'quadrant' 'quervain' 'questionable' 'questions' 'radial'\n",
            " 'radiating' 'radiation' 'radical' 'radiculopathy' 'radiofrequency'\n",
            " 'rapid' 'ray' 'received' 'recent' 'recently' 'reconstruction' 'rectal'\n",
            " 'rectus' 'recurrent' 'reduction' 'referred' 'reflux' 'refractory'\n",
            " 'regarding' 'region' 'regurgitation' 'rehabilitation' 'related' 'release'\n",
            " 'removal' 'removed' 'renal' 'repair' 'repeat' 'replacement' 'report'\n",
            " 'reports' 'requested' 'requiring' 'resection' 'residual' 'resolved'\n",
            " 'respiratory' 'retention' 'retrograde' 'return' 'returns' 'revealed'\n",
            " 'review' 'revision' 'right' 'ring' 'risk' 'room' 'root' 'roots' 'rotator'\n",
            " 'routine' 'rule' 'rupture' 'ruptured' 's1' 'sacroiliac' 'salpingo'\n",
            " 'sample' 'saphenous' 'scalp' 'scan' 'scissors' 'scleral' 'screening'\n",
            " 'screw' 'screws' 'second' 'secondary' 'section' 'seen' 'segmental'\n",
            " 'seizure' 'seizures' 'selective' 'sensory' 'sepsis' 'septal'\n",
            " 'septoplasty' 'septum' 'severe' 'sheath' 'short' 'shortness' 'shoulder'\n",
            " 'showed' 'showing' 'shows' 'shunt' 'sided' 'sigmoid' 'sigmoidoscopy'\n",
            " 'significant' 'single' 'sinus' 'site' 'size' 'skilled' 'skin' 'skull'\n",
            " 'sleep' 'small' 'soft' 'space' 'specific' 'specimen' 'speculum' 'speech'\n",
            " 'spinal' 'spine' 'spondylosis' 'spontaneous' 'squamous' 'stable' 'stage'\n",
            " 'standard' 'started' 'states' 'status' 'stem' 'stenosis' 'stent'\n",
            " 'stenting' 'sterilization' 'steroid' 'stone' 'stress' 'stroke' 'study'\n",
            " 'subacromial' 'subclavian' 'subcutaneous' 'subdural' 'successful'\n",
            " 'suction' 'summary' 'superficial' 'superior' 'surgery' 'surgical'\n",
            " 'suspected' 'suspicious' 'swallowing' 'swelling' 'symptomatic' 'symptoms'\n",
            " 'syncope' 'syndrome' 'synthes' 'systems' 'tah' 'taken' 'tear' 'technique'\n",
            " 'teeth' 'template' 'temporal' 'tendon' 'tenosynovitis' 'term' 'test'\n",
            " 'therapy' 'thickness' 'thigh' 'thoracic' 'thoracotomy' 'throat' 'thumb'\n",
            " 'thyroid' 'thyroidectomy' 'tibial' 'time' 'times' 'tinnitus' 'tissue'\n",
            " 'titanium' 'today' 'toe' 'toes' 'tongue' 'tonsillectomy' 'tonsillitis'\n",
            " 'tooth' 'total' 'tracheostomy' 'tract' 'transesophageal' 'transforaminal'\n",
            " 'transplant' 'transposition' 'transurethral' 'transverse' 'trauma'\n",
            " 'traumatic' 'treated' 'treatment' 'trigger' 'tubal' 'tube' 'tubes'\n",
            " 'tumor' 'tunnel' 'type' 'ulcer' 'ulnar' 'ultrasound' 'umbilical' 'unable'\n",
            " 'undergoing' 'underwent' 'upper' 'ureteral' 'ureteropelvic' 'urinary'\n",
            " 'urine' 'use' 'used' 'using' 'uterine' 'uterus' 'utilizing' 'vaginal'\n",
            " 'valve' 'vascular' 'vasectomy' 'vehicle' 'vein' 'venous' 'ventilator'\n",
            " 'ventricle' 'ventricular' 'ventriculography' 'versus' 'vertebral'\n",
            " 'vertigo' 'vessel' 'viable' 'video' 'views' 'vision' 'visit' 'vitrectomy'\n",
            " 'vomiting' 'wall' 'weak' 'weakness' 'wedge' 'week' 'weeks' 'weight'\n",
            " 'white' 'wire' 'woman' 'work' 'worsening' 'wound' 'wrist' 'x2' 'year'\n",
            " 'years']\n"
          ]
        }
      ]
    },
    {
      "cell_type": "markdown",
      "source": [
        "## 11. Splitting Data and Training the Model Again\n",
        "The data is split again, and the Logistic Regression model is retrained with the new TF-IDF features."
      ],
      "metadata": {
        "id": "HbF6B7AtnfWB"
      }
    },
    {
      "cell_type": "code",
      "source": [
        "# Split the data into training and test sets\n",
        "X_train, X_test, y_train, y_test = train_test_split(X, data['medical_specialty'], test_size=0.3, random_state=42)\n",
        "\n",
        "# Initialize and train the model\n",
        "model = LogisticRegression(max_iter=1000)\n",
        "model.fit(X_train, y_train)\n",
        "\n",
        "# Predict on the test set\n",
        "y_pred = model.predict(X_test)\n"
      ],
      "metadata": {
        "id": "-P_RT6lXnaeb"
      },
      "execution_count": null,
      "outputs": []
    },
    {
      "cell_type": "markdown",
      "source": [
        "## 12. Final Model Evaluation\n",
        "The final evaluation of the model is conducted."
      ],
      "metadata": {
        "id": "6chZIBb8nlfW"
      }
    },
    {
      "cell_type": "markdown",
      "source": [
        "#### Purpose: To evaluate the quality of the predictions for each class (medical specialty).\n",
        "####Interpretation:\n",
        "1. Precision: The ratio of correctly predicted positive observations to the total predicted positives. High precision means low false positive rate.\n",
        "2. Recall: The ratio of correctly predicted positive observations to all observations in the actual class. High recall means low false negative rate.\n",
        "3. F1-Score: The weighted average of precision and recall. It gives a single score that balances the precision and recall.\n",
        "Support: The number of actual occurrences of the class in the dataset."
      ],
      "metadata": {
        "id": "fMYLIa9MoZiK"
      }
    },
    {
      "cell_type": "code",
      "source": [
        "# Evaluate the model\n",
        "print(\"Accuracy:\", accuracy_score(y_test, y_pred))\n",
        "print(\"Classification Report:\\n\", classification_report(y_test, y_pred))\n"
      ],
      "metadata": {
        "colab": {
          "base_uri": "https://localhost:8080/"
        },
        "id": "VxEFB5Tznm7D",
        "outputId": "21072dd0-095b-4498-8317-194463438037"
      },
      "execution_count": null,
      "outputs": [
        {
          "output_type": "stream",
          "name": "stdout",
          "text": [
            "Accuracy: 0.2693333333333333\n",
            "Classification Report:\n",
            "               precision    recall  f1-score   support\n",
            "\n",
            "           0       0.00      0.00      0.00         2\n",
            "           1       0.00      0.00      0.00         3\n",
            "           2       0.00      0.00      0.00         3\n",
            "           3       0.27      0.26      0.26       105\n",
            "           4       0.00      0.00      0.00         3\n",
            "           5       0.22      0.46      0.30       157\n",
            "           6       0.00      0.00      0.00         4\n",
            "           7       0.00      0.00      0.00        12\n",
            "           8       0.00      0.00      0.00         6\n",
            "           9       0.00      0.00      0.00         2\n",
            "          10       0.33      0.06      0.10        33\n",
            "          11       0.33      0.06      0.10        35\n",
            "          12       0.00      0.00      0.00        24\n",
            "          13       0.00      0.00      0.00         4\n",
            "          14       0.17      0.09      0.12        68\n",
            "          15       0.14      0.09      0.11        74\n",
            "          16       0.00      0.00      0.00        26\n",
            "          17       0.00      0.00      0.00         3\n",
            "          18       0.00      0.00      0.00         2\n",
            "          19       0.00      0.00      0.00         1\n",
            "          20       0.00      0.00      0.00         3\n",
            "          21       0.25      0.04      0.07        26\n",
            "          22       0.15      0.11      0.13        63\n",
            "          23       0.00      0.00      0.00        31\n",
            "          24       0.24      0.12      0.16        52\n",
            "          25       0.00      0.00      0.00        16\n",
            "          26       0.25      0.09      0.13        23\n",
            "          27       0.19      0.21      0.20        98\n",
            "          28       0.40      0.33      0.36        12\n",
            "          29       0.67      0.09      0.16        22\n",
            "          30       0.00      0.00      0.00        11\n",
            "          31       0.50      0.10      0.17        10\n",
            "          32       0.00      0.00      0.00        14\n",
            "          33       0.28      0.15      0.20        93\n",
            "          34       0.00      0.00      0.00         6\n",
            "          35       0.36      0.11      0.17        45\n",
            "          36       0.00      0.00      0.00         2\n",
            "          37       0.00      0.00      0.00         2\n",
            "          38       0.33      0.61      0.43       354\n",
            "          39       0.27      0.14      0.18        50\n",
            "\n",
            "    accuracy                           0.27      1500\n",
            "   macro avg       0.13      0.08      0.08      1500\n",
            "weighted avg       0.24      0.27      0.22      1500\n",
            "\n"
          ]
        },
        {
          "output_type": "stream",
          "name": "stderr",
          "text": [
            "/usr/local/lib/python3.10/dist-packages/sklearn/metrics/_classification.py:1344: UndefinedMetricWarning: Precision and F-score are ill-defined and being set to 0.0 in labels with no predicted samples. Use `zero_division` parameter to control this behavior.\n",
            "  _warn_prf(average, modifier, msg_start, len(result))\n",
            "/usr/local/lib/python3.10/dist-packages/sklearn/metrics/_classification.py:1344: UndefinedMetricWarning: Precision and F-score are ill-defined and being set to 0.0 in labels with no predicted samples. Use `zero_division` parameter to control this behavior.\n",
            "  _warn_prf(average, modifier, msg_start, len(result))\n",
            "/usr/local/lib/python3.10/dist-packages/sklearn/metrics/_classification.py:1344: UndefinedMetricWarning: Precision and F-score are ill-defined and being set to 0.0 in labels with no predicted samples. Use `zero_division` parameter to control this behavior.\n",
            "  _warn_prf(average, modifier, msg_start, len(result))\n"
          ]
        }
      ]
    },
    {
      "cell_type": "markdown",
      "source": [
        "1. Rows corresponding to each specialty: Show individual performance metrics for each class.\n",
        "2. Overall accuracy: The fraction of correct predictions.\n",
        "3. Macro average: Average performance metrics without considering the class imbalance.\n",
        "4. Weighted average: Average performance metrics considering the class imbalance."
      ],
      "metadata": {
        "id": "Ivsx8bOhovOb"
      }
    }
  ]
}